{
  "nbformat": 4,
  "nbformat_minor": 0,
  "metadata": {
    "colab": {
      "provenance": [],
      "authorship_tag": "ABX9TyNUyN1h/SqdGmuNUE16YZp8",
      "include_colab_link": true
    },
    "kernelspec": {
      "name": "python3",
      "display_name": "Python 3"
    },
    "language_info": {
      "name": "python"
    }
  },
  "cells": [
    {
      "cell_type": "markdown",
      "metadata": {
        "id": "view-in-github",
        "colab_type": "text"
      },
      "source": [
        "<a href=\"https://colab.research.google.com/github/udg2019/4-1-studysave/blob/master/8%EC%9E%A5_%ED%8A%B8%EB%A6%AC2.ipynb\" target=\"_parent\"><img src=\"https://colab.research.google.com/assets/colab-badge.svg\" alt=\"Open In Colab\"/></a>"
      ]
    },
    {
      "cell_type": "code",
      "execution_count": null,
      "metadata": {
        "colab": {
          "base_uri": "https://localhost:8080/"
        },
        "id": "kHxSu6flD7WN",
        "outputId": "655a97b1-a3dd-44c9-bede-553d956deaea"
      },
      "outputs": [
        {
          "output_type": "stream",
          "name": "stdout",
          "text": [
            "레드벨벳\n",
            "name : 레드벨벳, current.data : 블랙핑크\n",
            "레드벨벳 왼쪽노드에 추가\n",
            "마마무\n",
            "name : 마마무, current.data : 블랙핑크\n",
            "name : 마마무, current.data : 레드벨벳\n",
            "마마무 오른쪽노드에 추가\n",
            "에이핑크\n",
            "name : 에이핑크, current.data : 블랙핑크\n",
            "에이핑크 오른쪽노드에 추가\n",
            "걸스데이\n",
            "name : 걸스데이, current.data : 블랙핑크\n",
            "name : 걸스데이, current.data : 레드벨벳\n",
            "걸스데이 왼쪽노드에 추가\n",
            "트와이스\n",
            "name : 트와이스, current.data : 블랙핑크\n",
            "name : 트와이스, current.data : 에이핑크\n",
            "트와이스 오른쪽노드에 추가\n",
            "이진탐색트리 구성 완료\n"
          ]
        }
      ],
      "source": [
        "class TreeNode():\n",
        "  def __init__(self):\n",
        "    self.left = None\n",
        "    self.data = None\n",
        "    self.right = None\n",
        "\n",
        "memory = []\n",
        "root = None\n",
        "nameAry = ['블랙핑크','레드벨벳','마마무','에이핑크','걸스데이','트와이스']\n",
        "\n",
        "#메인코드\n",
        "node = TreeNode()\n",
        "node.data = nameAry[0]\n",
        "root = node\n",
        "memory.append(node)\n",
        "\n",
        "for name in nameAry[1:]:\n",
        "  node = TreeNode()\n",
        "  node.data = name\n",
        "  print(node.data)\n",
        "  current = root #루트의 개념\n",
        "  while True:\n",
        "    print(f\"name : {name}, current.data : {current.data}\")\n",
        "    if name < current.data:\n",
        "      if current.left == None:\n",
        "        current.left = node\n",
        "        print(current.left.data, '왼쪽노드에 추가')\n",
        "        break\n",
        "      current = current.left\n",
        "    else:\n",
        "      if current.right == None:\n",
        "        current.right = node\n",
        "        print(current.right.data, '오른쪽노드에 추가')\n",
        "        break\n",
        "      current = current.right\n",
        "    memory.append(node)\n",
        "print('이진탐색트리 구성 완료')"
      ]
    },
    {
      "cell_type": "code",
      "source": [
        "#이진트리에서의 찾기\n",
        "\n",
        "findName = '마마무'\n",
        "\n",
        "current = root\n",
        "while True:\n",
        "  if findName == current.data:\n",
        "    print(findName, '을 찾을 수 없습니다.')\n",
        "    break\n",
        "  elif findName < current.data:\n",
        "    if current.left == None:\n",
        "      print(findName, '이(가) 트리에 없음')\n",
        "      break\n",
        "    current = current.left\n",
        "  else:\n",
        "    if current.right == None:\n",
        "      print(findName,'이(가) 트리에 없음')\n",
        "    current = current.right"
      ],
      "metadata": {
        "colab": {
          "base_uri": "https://localhost:8080/"
        },
        "id": "n7cvZcKZvGu5",
        "outputId": "1bdb9b82-63eb-4f50-d82d-27618cc4dd46"
      },
      "execution_count": null,
      "outputs": [
        {
          "output_type": "stream",
          "name": "stdout",
          "text": [
            "마마무 을 찾을 수 없습니다.\n"
          ]
        }
      ]
    },
    {
      "cell_type": "code",
      "source": [
        "#이진트리에서의 삭제\n",
        "\n",
        "deleteName = '마마무'\n",
        "\n",
        "current = root\n",
        "parent = None\n",
        "while True:\n",
        "  if deleteName == current.data:\n",
        "    if current.left == None and current.right == None: #이 조건이 달라지는 것.\n",
        "      if parent.left == current:\n",
        "        parent.left = None\n",
        "      else:\n",
        "        parent.right = None\n",
        "      del(current)\n",
        "    elif current.left !=None and current.right == None:\n",
        "      if current.left == current:\n",
        "        parent.left = current.left\n",
        "      else:\n",
        "        parent.right = current.left\n",
        "      del(current)\n",
        "    elif current.left !=None and current.right != None:\n",
        "      if current.left == current:\n",
        "        parent.left = current.right\n",
        "      else:\n",
        "        parent.right = current.right\n",
        "      del(current)\n",
        "    print(deleteName, '이(가) 삭제됨')\n",
        "    break\n",
        "  elif deleteName < current.data:\n",
        "    if current.left == None:\n",
        "      print(deleteName, '이(가) 트리에 없음)')\n",
        "      break\n",
        "    parent = current\n",
        "    current = current.left\n",
        "  else:\n",
        "    if current.right == None:\n",
        "      print(deleteName, '이(가) 트리에 없음)')\n",
        "      break\n",
        "    parent = current\n",
        "    current = current.right"
      ],
      "metadata": {
        "colab": {
          "base_uri": "https://localhost:8080/"
        },
        "id": "FPJhNuNcwzYC",
        "outputId": "4ccb54ec-55af-4e7d-86a0-f516dad19f0c"
      },
      "execution_count": null,
      "outputs": [
        {
          "output_type": "stream",
          "name": "stdout",
          "text": [
            "마마무 이(가) 삭제됨\n"
          ]
        }
      ]
    }
  ]
}