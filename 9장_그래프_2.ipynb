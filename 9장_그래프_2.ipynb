{
  "nbformat": 4,
  "nbformat_minor": 0,
  "metadata": {
    "colab": {
      "provenance": [],
      "authorship_tag": "ABX9TyN5bIysOlS+kb4cm85Cs1wS",
      "include_colab_link": true
    },
    "kernelspec": {
      "name": "python3",
      "display_name": "Python 3"
    },
    "language_info": {
      "name": "python"
    }
  },
  "cells": [
    {
      "cell_type": "markdown",
      "metadata": {
        "id": "view-in-github",
        "colab_type": "text"
      },
      "source": [
        "<a href=\"https://colab.research.google.com/github/udg2019/4-1-studysave/blob/master/9%EC%9E%A5_%EA%B7%B8%EB%9E%98%ED%94%84_2.ipynb\" target=\"_parent\"><img src=\"https://colab.research.google.com/assets/colab-badge.svg\" alt=\"Open In Colab\"/></a>"
      ]
    },
    {
      "cell_type": "code",
      "execution_count": null,
      "metadata": {
        "colab": {
          "base_uri": "https://localhost:8080/"
        },
        "id": "ccRGTPmT6Af6",
        "outputId": "d497cd15-b413-4ecd-bb18-f877da475ee9"
      },
      "outputs": [
        {
          "output_type": "stream",
          "name": "stdout",
          "text": [
            "## G1 무방향 그래프 ##\n",
            "0 1 1 1 \n",
            "1 0 1 0 \n",
            "0 1 0 1 \n",
            "1 0 1 0 \n",
            "## G3 방향 그래프 ##\n",
            "<__main__.Graph object at 0x7fa00b1a8d00>\n",
            "0 1 1 0 \n",
            "0 0 0 0 \n",
            "0 0 0 0 \n",
            "0 1 1 0 \n"
          ]
        }
      ],
      "source": [
        "class Graph():\n",
        "  def __init__(self, size):\n",
        "    self.SIZE = size\n",
        "    self.graph = [[0 for _ in range(size)] for _ in range(size)]\n",
        "\n",
        "\n",
        "#전역변수 선언\n",
        "G1, G3 = None, None\n",
        "\n",
        "  #메인 코드\n",
        "G1 = Graph(4)\n",
        "G1.graph[0][1] = 1; G1.graph[0][2] = 1; G1.graph[0][3] = 1\n",
        "G1.graph[1][0] = 1; G1.graph[1][2] = 1\n",
        "G1.graph[1][0] = 1; G1.graph[2][1] = 1; G1.graph[2][3] = 1\n",
        "G1.graph[3][0] = 1; G1.graph[3][2] = 1\n",
        "\n",
        "print(\"## G1 무방향 그래프 ##\")\n",
        "\n",
        "for row in range(4):\n",
        "  for col in range(4):\n",
        "    print(G1.graph[row][col], end=' ')\n",
        "  print()\n",
        "\n",
        "G3 = Graph(4)\n",
        "G3.graph[0][1] = 1; G3.graph[0][2] = 1;\n",
        "G3.graph[3][1] = 1; G3.graph[3][2] = 1;\n",
        "\n",
        "print(\"## G3 방향 그래프 ##\")\n",
        "print(G3)\n",
        "for row in range(4):\n",
        "  for col in range(4):\n",
        "    print(G3.graph[row][col], end=' ')\n",
        "  print()"
      ]
    },
    {
      "cell_type": "code",
      "source": [
        "#개선된 그래프\n",
        "nameAry = ['문별', '솔라', '휘인', '쯔위', '선미', '화사']\n",
        "print(' ', end='')\n",
        "for v in range(G1.SIZE):\n",
        "  print(nameAry[v], end=' ')\n",
        "print()\n",
        "\n",
        "for row in range(G1.SIZE):\n",
        "  print(nameAry[row], end=' ')\n",
        "  for col in range(G1.SIZE):\n",
        "    print(G1.graph[row][col], end='')\n",
        "  print()\n",
        "print()"
      ],
      "metadata": {
        "id": "gYg4F2KY8r7c"
      },
      "execution_count": null,
      "outputs": []
    },
    {
      "cell_type": "code",
      "source": [
        "#교재 328페이지 클래스와 함수 선언\n",
        "class Graph():\n",
        "  def __init__(self, size):\n",
        "    self.SIZE = size\n",
        "    self.graph = [[0 for _ in range(size)] for _ in range(size)]\n",
        "\n",
        "def printGraph(g):\n",
        "  for v in range(g.SIZE): #행과 열의 이름\n",
        "    print(nameAry[v], end=' ')\n",
        "  print()\n",
        "  for row in range(g.SIZE):\n",
        "    print(nameAry[row], end=' ')\n",
        "    for col in range(g.SIZE):\n",
        "      print(g.graph[row][col], end= ' ')\n",
        "    print()\n",
        "  print()\n",
        "\n",
        "#전역 변수\n",
        "G1 = None\n",
        "nameAry = ['문별','솔라','휘인','쯔위','선미','화사']\n",
        "문별,솔라,휘인,쯔위,선미,화사 = 0, 1, 2, 3, 4, 5\n",
        "\n",
        "#main\n",
        "gSize = 6\n",
        "G1 = Graph(gSize)\n",
        "G1.graph[문별][솔라] = 1; G1.graph[문별][휘인]= 1\n",
        "G1.graph[솔라][문별] = 1; G1.graph[솔라][쯔위]= 1\n",
        "G1.graph[휘인][문별] = 1; G1.graph[휘인][쯔위]= 1\n",
        "G1.graph[쯔위][솔라] = 1; G1.graph[쯔위][휘인]= 1\n",
        "G1.graph[쯔위][선미] = 1; G1.graph[쯔위][화사]= 1\n",
        "G1.graph[선미][쯔위] = 1; G1.graph[선미][화사]= 1\n",
        "G1.graph[화사][쯔위] = 1; G1.graph[화사][선미]= 1\n",
        "\n",
        "print('무방향 그래프')\n",
        "printGraph(G1)"
      ],
      "metadata": {
        "colab": {
          "base_uri": "https://localhost:8080/"
        },
        "id": "diX6zGeq9TPV",
        "outputId": "59a062d1-9647-4ca0-b400-5d280788fa13"
      },
      "execution_count": null,
      "outputs": [
        {
          "output_type": "stream",
          "name": "stdout",
          "text": [
            "무방향 그래프\n",
            "문별 솔라 휘인 쯔위 선미 화사 \n",
            "문별 0 1 1 0 0 0 \n",
            "솔라 1 0 0 1 0 0 \n",
            "휘인 1 0 0 1 0 0 \n",
            "쯔위 0 1 1 0 1 1 \n",
            "선미 0 0 0 1 0 1 \n",
            "화사 0 0 0 1 1 0 \n",
            "\n"
          ]
        }
      ]
    },
    {
      "cell_type": "code",
      "source": [
        "#깊이 우선 탐색\n",
        "\n",
        "class Graph():\n",
        "  def __init__(self, size):\n",
        "    self.SIZE = size\n",
        "    self.graph = [[0 for _ in range(size)] for _ in range(size)]\n",
        "\n",
        "\n",
        "G1 = None\n",
        "stack = [] #추가, 삭제 스택\n",
        "visitedAry = [] #방문한 점정 기록\n",
        "\n",
        "G1 = Graph(4)\n",
        "G1.graph[0][2] = 1; G1.graph[0][3] = 1;\n",
        "G1.graph[1][2] = 1;\n",
        "G1.graph[2][0] = 1;G1.graph[2][1] = 1;G1.graph[2][2] = 1;\n",
        "G1.graph[3][0] = 1;G1.graph[3][2] = 1;\n",
        "\n",
        "print('##G1 무방향 그래프')\n",
        "for row in range(4):\n",
        "  for col in range(4):\n",
        "    print(G1.graph[row][col], end='')\n",
        "  print()\n",
        "\n",
        "current = 0\n",
        "stack.append(current)\n",
        "visitedAry.append(current)\n",
        "\n",
        "while(len(stack) !=0):\n",
        "  next = None\n",
        "  for vertex in range(4):\n",
        "    if G1.graph[current][vertex] == 1:\n",
        "      if vertex in visitedAry:\n",
        "        pass\n",
        "      else:\n",
        "         next = vertex\n",
        "         break\n",
        "  if next != None: #다음에 방문할 정점이 있다면.\n",
        "    current = next\n",
        "    stack.append(current)\n",
        "    visitedAry.append(current)\n",
        "  else: #다음에 방문할 정점이 없는 경우\n",
        "    current = stack.pop()\n",
        "\n",
        "print('방문순서 -->', end=' ')\n",
        "print(visitedAry)\n",
        "print('방문순서 -->', end=' ')\n",
        "for i in visitedAry: #프린트용 포문\n",
        "  print(chr(ord(\"A\")+i), end='') #방문한 지점에 문자로 보내고,\n"
      ],
      "metadata": {
        "colab": {
          "base_uri": "https://localhost:8080/"
        },
        "id": "18s2g3SUeSMV",
        "outputId": "d644f0d5-3ebc-4be2-d9e4-df973023ea4a"
      },
      "execution_count": null,
      "outputs": [
        {
          "output_type": "stream",
          "name": "stdout",
          "text": [
            "##G1 무방향 그래프\n",
            "0011\n",
            "0010\n",
            "1110\n",
            "1010\n",
            "방문순서 --> [0, 2, 1]\n",
            "방문순서 --> ACB"
          ]
        }
      ]
    }
  ]
}