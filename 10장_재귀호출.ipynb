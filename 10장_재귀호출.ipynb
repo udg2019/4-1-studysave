{
  "nbformat": 4,
  "nbformat_minor": 0,
  "metadata": {
    "colab": {
      "provenance": [],
      "collapsed_sections": [
        "M2ygQU3VPSPn"
      ],
      "authorship_tag": "ABX9TyOfItS+Cp2A4WZLkdakySb4",
      "include_colab_link": true
    },
    "kernelspec": {
      "name": "python3",
      "display_name": "Python 3"
    },
    "language_info": {
      "name": "python"
    }
  },
  "cells": [
    {
      "cell_type": "markdown",
      "metadata": {
        "id": "view-in-github",
        "colab_type": "text"
      },
      "source": [
        "<a href=\"https://colab.research.google.com/github/udg2019/4-1-studysave/blob/master/10%EC%9E%A5_%EC%9E%AC%EA%B7%80%ED%98%B8%EC%B6%9C.ipynb\" target=\"_parent\"><img src=\"https://colab.research.google.com/assets/colab-badge.svg\" alt=\"Open In Colab\"/></a>"
      ]
    },
    {
      "cell_type": "markdown",
      "source": [
        "# 재귀호출의 개념\n",
        "- 자신을 다시 호출하는 것\n",
        "- 상자를 열고 열어서 반지를 넣고 다시 닫고 닫음\n"
      ],
      "metadata": {
        "id": "Vs_3QtYOBtIj"
      }
    },
    {
      "cell_type": "code",
      "source": [
        "#재귀호출의 작동\n",
        "\n",
        "def openBox(): #함수명(매개변수) 이 메서드에서 쓰고 끝남\n",
        "  global count #전역변수 이 셀 내에서 계속 씀\n",
        "  print(\"종이 상자를 연다\", count)\n",
        "\n",
        "  count -= 1\n",
        "  if count == 0:\n",
        "    print(\"반지를 넣는다.\", count)\n",
        "    return\n",
        "\n",
        "  openBox()\n",
        "\n",
        "  print(\"종이 상자를 닫기\",count)\n",
        "\n",
        "count = 5\n",
        "openBox() #1차 호출\n",
        "\n",
        "#너무 많아서 에러가 뜸. 컴퓨터가 다운될수도 있음.\n",
        "#그래서 반드시 제한을 걸어놔야함."
      ],
      "metadata": {
        "colab": {
          "base_uri": "https://localhost:8080/"
        },
        "id": "ccovGy-GCIaq",
        "outputId": "6d899230-e311-4387-965d-c6d3813e1185"
      },
      "execution_count": null,
      "outputs": [
        {
          "output_type": "stream",
          "name": "stdout",
          "text": [
            "종이 상자를 연다 5\n",
            "종이 상자를 연다 4\n",
            "종이 상자를 연다 3\n",
            "종이 상자를 연다 2\n",
            "종이 상자를 연다 1\n",
            "반지를 넣는다. 0\n",
            "종이 상자를 닫기 0\n",
            "종이 상자를 닫기 0\n",
            "종이 상자를 닫기 0\n",
            "종이 상자를 닫기 0\n"
          ]
        }
      ]
    },
    {
      "cell_type": "code",
      "source": [
        "#0부터 10까지 숫자합계 내기\n",
        "sumV = 0\n",
        "for i in range(10, 0, -1):\n",
        "  sumV += i\n",
        "  print(i)\n",
        "print(sumV)"
      ],
      "metadata": {
        "colab": {
          "base_uri": "https://localhost:8080/"
        },
        "id": "sETWqxw9FXDW",
        "outputId": "5fff8443-fd87-429e-9f4f-341ea78f5936"
      },
      "execution_count": null,
      "outputs": [
        {
          "output_type": "stream",
          "name": "stdout",
          "text": [
            "10\n",
            "9\n",
            "8\n",
            "7\n",
            "6\n",
            "5\n",
            "4\n",
            "3\n",
            "2\n",
            "1\n",
            "55\n"
          ]
        }
      ]
    },
    {
      "cell_type": "code",
      "source": [
        "def addNumber (num): #매개변수, 들어온 값이\n",
        "  print(num)\n",
        "  if num <= 1: #1보다 작다면\n",
        "    return 1   #매개변수에 1 반환\n",
        "  return num + addNumber(num-1)\n",
        "\n",
        "print(addNumber(3))\n",
        "\n",
        "#반복이 왜 되는지 잘 모르겠다면?\n",
        "#def addNumber (num): 에 return num <이것 때문임.0"
      ],
      "metadata": {
        "colab": {
          "base_uri": "https://localhost:8080/"
        },
        "id": "Ng_2cQfQGTYM",
        "outputId": "125f9ff8-f85e-421d-ba4c-95d3edffc785"
      },
      "execution_count": null,
      "outputs": [
        {
          "output_type": "stream",
          "name": "stdout",
          "text": [
            "3\n",
            "2\n",
            "1\n",
            "6\n"
          ]
        }
      ]
    },
    {
      "cell_type": "markdown",
      "source": [
        "#논산 응용"
      ],
      "metadata": {
        "id": "ER34pOG7Sf5G"
      }
    },
    {
      "cell_type": "code",
      "source": [
        "# 팩토리얼\n",
        "# 5! = 1x2x3x4x5\n",
        "# 5! = 5x4x3x2x1\n",
        "# 5! = 5x(4!)\n",
        "# 5! = 5x4x3x(2!)\n",
        "\n",
        "# n! = nx(n-1!)\n",
        "\n",
        "facto = 1\n",
        "\n",
        "for i in range(5, 0, -1):\n",
        "  facto *= i\n",
        "  print(i, facto)"
      ],
      "metadata": {
        "colab": {
          "base_uri": "https://localhost:8080/"
        },
        "id": "nY8JOmzBHxJ3",
        "outputId": "1967dc81-30ec-4c60-d367-412c7cc1d9a6"
      },
      "execution_count": null,
      "outputs": [
        {
          "output_type": "stream",
          "name": "stdout",
          "text": [
            "5 5\n",
            "4 20\n",
            "3 60\n",
            "2 120\n",
            "1 120\n"
          ]
        }
      ]
    },
    {
      "cell_type": "code",
      "source": [
        "#재귀함수로 바꾼 팩토리얼\n",
        "\n",
        "def facto (num):\n",
        "  if num <= 1:\n",
        "    print('1 반환')\n",
        "    return 1\n",
        "  print('%d * %d! 호출' % (num, num-1)) #퍼센트 뒤에 있는 걸 %d에 문자열로...\n",
        "  retv = facto(num-1)\n",
        "  print('%d * %d! = %d 반환' % (num, num-1, retv))\n",
        "  return num*retv\n",
        "\n",
        "print('\\n5! =', facto(5))"
      ],
      "metadata": {
        "colab": {
          "base_uri": "https://localhost:8080/"
        },
        "id": "e-z1dWJQJCMM",
        "outputId": "3ecd3596-ca77-47e1-fa20-f3dce80a544e"
      },
      "execution_count": null,
      "outputs": [
        {
          "output_type": "stream",
          "name": "stdout",
          "text": [
            "5 * 4! 호출\n",
            "4 * 3! 호출\n",
            "3 * 2! 호출\n",
            "2 * 1! 호출\n",
            "1 반환\n",
            "2 * 1! = 1 반환\n",
            "3 * 2! = 2 반환\n",
            "4 * 3! = 6 반환\n",
            "5 * 4! = 24 반환\n",
            "\n",
            "5! = 120\n"
          ]
        }
      ]
    },
    {
      "cell_type": "code",
      "source": [
        "# 피보나치(fibo) 수.\n",
        "# 0, 1, (0+1), (1+1), (1+2), (2+3), (3+5) .....\n",
        "# 0  1     2      3      4      5      6\n",
        "def fibo(n):\n",
        "  if n == 0:\n",
        "    return 0\n",
        "  elif n == 1:\n",
        "    return 1 #0과 1은 계산하지 않음.\n",
        "  else:\n",
        "    return fibo(n-1) + fibo(n-2) #일종의 계속되는 누적임.\n",
        "\n",
        " print('피보나치 수 --> 0 1 ', end=' ')\n",
        "for i in range(2, 10):\n",
        "  print(fibo(i), end=' ')"
      ],
      "metadata": {
        "colab": {
          "base_uri": "https://localhost:8080/"
        },
        "id": "ZckH6ymJPs6n",
        "outputId": "30141992-bf07-46f9-faf4-24e32db87ada"
      },
      "execution_count": null,
      "outputs": [
        {
          "output_type": "stream",
          "name": "stdout",
          "text": [
            "피보나치 수 --> 0 1  1 2 3 5 8 13 21 34 "
          ]
        }
      ]
    },
    {
      "cell_type": "code",
      "source": [
        "print(fibo(7))\n",
        "print(fibo(6), fibo(5), fibo(4), fibo(3))"
      ],
      "metadata": {
        "colab": {
          "base_uri": "https://localhost:8080/"
        },
        "id": "h9ZxcxERZlUe",
        "outputId": "4bb6f193-caa8-40e6-e28a-b64ec076f4ff"
      },
      "execution_count": null,
      "outputs": [
        {
          "output_type": "stream",
          "name": "stdout",
          "text": [
            "13\n",
            "8 5 3 2\n"
          ]
        }
      ]
    },
    {
      "cell_type": "code",
      "source": [
        "# 우영우 기러기 토마토 = 회문(팰리드롭) 판단하기 코딩테스트 시험문.\n",
        "# r e v e r\n",
        "# 0 1  -2-1   이론은 마지막 첫번째 그리고 +1 -1을 비교하여 같다면 회문인거임.\n",
        "\n",
        "def palindrome(pStr):\n",
        "  if len(pStr) <= 1 : # 오 같이 길이가 하나면 그냥 회문이라 보겠다.\n",
        "    return True\n",
        "  if pStr[0] != pStr[-1]: #왼쪽 첫글자와 오른쪽 첫글자가 같지 않다면\n",
        "    return False\n",
        "\n",
        "  return palindrome(pStr[1:len(pStr)-1])\n",
        "\n",
        "if palindrome('우영우'):\n",
        "  print('반복되는 회문입니다')\n",
        "else:\n",
        "  print('회문이 아닙니다.')"
      ],
      "metadata": {
        "id": "nHxfBZG0SaIi"
      },
      "execution_count": null,
      "outputs": []
    },
    {
      "cell_type": "code",
      "source": [],
      "metadata": {
        "id": "ft53PpsiVO14"
      },
      "execution_count": null,
      "outputs": []
    },
    {
      "cell_type": "markdown",
      "source": [
        "####간단 응용들"
      ],
      "metadata": {
        "id": "M2ygQU3VPSPn"
      }
    },
    {
      "cell_type": "code",
      "source": [
        "def countDown(n):\n",
        "  if n == 0:\n",
        "    print('발사')\n",
        "  else:\n",
        "    print(n)\n",
        "    countDown(n-1)ㅠ\n",
        "countDown(5)"
      ],
      "metadata": {
        "colab": {
          "base_uri": "https://localhost:8080/"
        },
        "id": "VYT_hTwgOwj2",
        "outputId": "14a57c69-80ba-422a-82f3-68ae35731b90"
      },
      "execution_count": null,
      "outputs": [
        {
          "output_type": "stream",
          "name": "stdout",
          "text": [
            "5\n",
            "4\n",
            "3\n",
            "2\n",
            "1\n",
            "발사\n"
          ]
        }
      ]
    },
    {
      "cell_type": "code",
      "source": [
        "def printStar(n):\n",
        "  if n > 0:\n",
        "    printStar(n-1)\n",
        "    print('★'*n)\n",
        "printStar(5)"
      ],
      "metadata": {
        "colab": {
          "base_uri": "https://localhost:8080/"
        },
        "id": "UGqddDGBPWGX",
        "outputId": "3d6da9f0-4f1a-4824-9161-fb73fc405d64"
      },
      "execution_count": null,
      "outputs": [
        {
          "output_type": "stream",
          "name": "stdout",
          "text": [
            "★\n",
            "★★\n",
            "★★★\n",
            "★★★★\n",
            "★★★★★\n"
          ]
        }
      ]
    }
  ]
}