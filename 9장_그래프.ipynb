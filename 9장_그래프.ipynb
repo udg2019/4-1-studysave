{
  "nbformat": 4,
  "nbformat_minor": 0,
  "metadata": {
    "colab": {
      "provenance": [],
      "authorship_tag": "ABX9TyMWmDOIk8UP+ZhUqaPaiJ20",
      "include_colab_link": true
    },
    "kernelspec": {
      "name": "python3",
      "display_name": "Python 3"
    },
    "language_info": {
      "name": "python"
    }
  },
  "cells": [
    {
      "cell_type": "markdown",
      "metadata": {
        "id": "view-in-github",
        "colab_type": "text"
      },
      "source": [
        "<a href=\"https://colab.research.google.com/github/udg2019/4-1-studysave/blob/master/9%EC%9E%A5_%EA%B7%B8%EB%9E%98%ED%94%84.ipynb\" target=\"_parent\"><img src=\"https://colab.research.google.com/assets/colab-badge.svg\" alt=\"Open In Colab\"/></a>"
      ]
    },
    {
      "cell_type": "markdown",
      "source": [
        "##그래프 기본\n",
        "- Graph : 여러 노드가 서로 연결된 자료구조(지하철노선)\n",
        "- 트리의 노드는 여기선 정점(Vertex)라 부름.\n",
        "- 간선(edge)은 정점을 연결하는 선이란 의미.(링크와 유사함)\n",
        "- 그래프의 종류 : 무방향 그래프, 방향그래프, 가중치그래프\n",
        "- 그래프 코드 : 인접행렬(일단 서로 연결된 선만)"
      ],
      "metadata": {
        "id": "E4NQfRCm-Kzy"
      }
    },
    {
      "cell_type": "markdown",
      "source": [
        "### 무방향 그래프\n",
        "- 간선에 방향성이 없는 그래프"
      ],
      "metadata": {
        "id": "r9OUgLOG_OfJ"
      }
    },
    {
      "cell_type": "code",
      "source": [
        "#  A B C D   무방향의 인접 행렬은 대각선임. 자기 자신만 빼고 다 연결되어 있으니까.\n",
        "#A 0 1 1 1\n",
        "#B 1 0 1 1\n",
        "#C 1 1 0 1\n",
        "#D 1 1 1 0"
      ],
      "metadata": {
        "id": "fUKFhR_PBR82"
      },
      "execution_count": null,
      "outputs": []
    },
    {
      "cell_type": "markdown",
      "source": [
        "### 방향 그래프\n",
        "- 화살표로 간선 방향을 표기하고 그래프의 정점 집합은 무방향과 같음"
      ],
      "metadata": {
        "id": "YKDeFnbW_vHp"
      }
    },
    {
      "cell_type": "markdown",
      "source": [
        "### 가중치 그래프\n",
        "- 무방향과 방향 그래프에 간선마다 가중치가 다르게 부여된 그래프\n",
        "- AI 중요\n",
        "- 어느 값의 가중치가 높아지면 그걸 우선 실행(선별)"
      ],
      "metadata": {
        "id": "6Ce1pi0q_5bp"
      }
    },
    {
      "cell_type": "markdown",
      "source": [
        "### 그래프의 (Depth Search / DFS)깊이 우선 탐색, (BFS)너비 우선 탐색의 작동\n",
        "- 그래프의 모든 정점을 한 번씩 방문하는 것을 그래프순회라고 함"
      ],
      "metadata": {
        "id": "b2rqm2GSAS56"
      }
    },
    {
      "cell_type": "markdown",
      "source": [
        "##그래프 구현"
      ],
      "metadata": {
        "id": "GsIwEsNl-NoK"
      }
    },
    {
      "cell_type": "markdown",
      "source": [
        "###무방향 그래프의 구현과 정점, 간선 연결"
      ],
      "metadata": {
        "id": "NO4Z0zR3ORgI"
      }
    },
    {
      "cell_type": "code",
      "source": [
        "# 그래프 구현\n",
        "class Graph(): #클래스형태\n",
        "  def __init__(self, size): #함수이나 __init__ 초기설정 함수로 설정\n",
        "    self.SIZE = size        #(함수는 속성, 기능을 가질 수 있음)\n",
        "    self.graph = [[0 for _ in range(size)] for _ in range(size) ] #사이즈 길이를 받아서 그 길이만큼\n",
        "                                                                 #값 0인 인덱스를 가진 리스트들을 [][][][] 생성\n",
        "\n",
        "\n",
        "G1 = Graph(4) # 시 저 위 클래스에서 일어나는 일.\n",
        "# class Graph(4):\n",
        "#   def __init__(G1, 4)\n",
        "#     G1.SIZE = 4\n",
        "#     G1.graph = [0 for _ in 4] for _ in 4]   /// [0, 0, 0, 0] x4 <= [0][0][0][0]가 아닌것을 주목.\n",
        "                                              #                      그래서 [0][1]은 1번 리스트의 두번째 칸임.\n",
        "\n",
        "print(G1.SIZE)\n",
        "print(G1.graph)"
      ],
      "metadata": {
        "colab": {
          "base_uri": "https://localhost:8080/"
        },
        "id": "br1RIOVTDWWh",
        "outputId": "3a8c17fb-6255-44c1-ee75-bb9cd2a7285d"
      },
      "execution_count": null,
      "outputs": [
        {
          "output_type": "stream",
          "name": "stdout",
          "text": [
            "4\n",
            "[[0, 0, 0, 0], [0, 0, 0, 0], [0, 0, 0, 0], [0, 0, 0, 0]]\n"
          ]
        }
      ]
    },
    {
      "cell_type": "markdown",
      "source": [
        "#### 그래프의 (정점, 간선) 연결"
      ],
      "metadata": {
        "id": "-V3VHo_sJUtS"
      }
    },
    {
      "cell_type": "code",
      "source": [
        "# 323페이지\n",
        "# 그래프의 정점 연결\n",
        "# 리스트 슬라이싱으로 행열위치에 값 넣기\n",
        "\n",
        "G1.graph[0][1] = 1 #(A,B) 무방향그래프\n",
        "G1.graph[0][2] = 1 #(A,C)\n",
        "G1.graph[0][3] = 1 #(A,D)\n",
        "\n",
        "G1.graph[1][0] = 1 #(B,A)\n",
        "G1.graph[1][2] = 1 #(B,C)\n",
        "\n",
        "G1.graph[2][0] = 1 #(C,A)\n",
        "G1.graph[2][1] = 1 #(C,B)\n",
        "G1.graph[2][3] = 1 #(C,D)\n",
        "\n",
        "G1.graph[3][0] = 1 #(D,A)\n",
        "G1.graph[3][2] = 1 #(D,C)\n",
        "\n",
        "\n",
        "print(G1.graph)\n"
      ],
      "metadata": {
        "colab": {
          "base_uri": "https://localhost:8080/"
        },
        "id": "dRgCy7ADJUHh",
        "outputId": "39e1dddb-ee33-471f-b708-b22c9dc9ad73"
      },
      "execution_count": null,
      "outputs": [
        {
          "output_type": "stream",
          "name": "stdout",
          "text": [
            "[[0, 1, 1, 1], [1, 0, 1, 0], [1, 1, 0, 1], [1, 0, 1, 0]]\n"
          ]
        }
      ]
    },
    {
      "cell_type": "markdown",
      "source": [
        "### 방향그래프 그래프 구현과 정점, 간선 연결"
      ],
      "metadata": {
        "id": "bZ62O3GQOdwp"
      }
    },
    {
      "cell_type": "code",
      "source": [
        "class Graph(): #클래스형태\n",
        "  def __init__(self, size):\n",
        "    self.SIZE = size\n",
        "    self.graph = [[0 for _ in range(size)] for _ in range(size) ]\n",
        "\n",
        "#전역변수 선언\n",
        "G1, G2 = None, None\n",
        "\n",
        "G1 = Graph(4)\n",
        "\n",
        "G1.graph[0][1] = 1 ; G1.graph[0][2] = 1 ; G1.graph[0][3]       # [0] 1행: (A,B) (A,C) (A,D)\n",
        "G1.graph[1][0] = 1 ; G1.graph[1][2] = 1                        # [1] 2행: (B,A) (B,C)\n",
        "G1.graph[2][0] = 1 ; G1.graph[2][1] = 1 ; G1.graph[2][3]       # [2] 3행: (C,A) (C,B) (C,D)\n",
        "G1.graph[3][0] = 1 ; G1.graph[3][2] = 1                        # [3] 4행: (D,A) (D,C)\n",
        "\n",
        "print(\"------------- G1 무방향 그래프 ----------\") # <->형 배열\n",
        "for r in range(4):\n",
        "  for c in range(4):\n",
        "    print(G1.graph[r][c], end=' ')\n",
        "  print() #줄 띄우기\n",
        "\n",
        "\n",
        "\n",
        "\n",
        "G2 = Graph(4)\n",
        "\n",
        "G2.graph[0][1] = 1 ; G2.graph[0][2] = 1\n",
        "G2.graph[3][0] = 1 ; G2.graph[3][2] = 1\n",
        "print(\"------------- G2 방향 그래프 -----------\") # />형 배열\n",
        "for r in range(4):\n",
        "  for c in range(4):\n",
        "    print(G2.graph[r][c], end=' ')\n",
        "  print()"
      ],
      "metadata": {
        "colab": {
          "base_uri": "https://localhost:8080/"
        },
        "id": "u_m35mbMOhN9",
        "outputId": "8d3809de-8857-4a88-e0a4-5e291d72f896"
      },
      "execution_count": null,
      "outputs": [
        {
          "output_type": "stream",
          "name": "stdout",
          "text": [
            "------------- G1 무방향 그래프 ----------\n",
            "0 1 1 0 \n",
            "1 0 1 0 \n",
            "1 1 0 0 \n",
            "1 0 1 0 \n",
            "------------- G2 방향 그래프 -----------\n",
            "0 1 1 0 \n",
            "0 0 0 0 \n",
            "0 0 0 0 \n",
            "1 0 1 0 \n"
          ]
        }
      ]
    },
    {
      "cell_type": "markdown",
      "source": [
        "### 그래프 개선"
      ],
      "metadata": {
        "id": "DGiUZpKkWiih"
      }
    },
    {
      "cell_type": "code",
      "source": [
        "#nameAry = [['문별','솔라','휘인','쯔위']문별,솔라,휘인,쯔위] = 0, 1, 2, 3\n",
        "\n",
        "class Graph():\n",
        "  def __init__(self, size):\n",
        "    self.SIZE = size\n",
        "    self.graph = [[0 for _ in range(size)] for _ in range(size)]\n",
        "\n",
        "def printGraph(g):\n",
        "    print(' ', end = ' ')\n",
        "    for v in range(G1.SIZE):\n",
        "        print(nameAry[v], end=' ')\n",
        "    print()  # enter 역활(줄바꿈)\n",
        "    for r in range(G1.SIZE):\n",
        "        print(nameAry[r], end = ' ')\n",
        "        for c in range(G1.SIZE):\n",
        "            print(G1.graph[r][c], end=' ')\n",
        "        print()\n",
        "    print()\n",
        "\n",
        "#전역변수 선언\n",
        "G1 = None\n",
        "\n",
        "nameAry = ['문별','솔라','휘인','쯔위','선미','화사']\n",
        "문별,솔라,휘인,쯔위,선미,화사 = 0,1,2,3,4,5\n",
        "\n",
        "gSize = 6\n",
        "G1 = Graph(gSize) # 객체생성\n",
        "\n",
        "G1.graph[문별][솔라] = 1  ; G1.graph[문별][휘인] = 1\n",
        "G1.graph[솔라][문별] = 1  ; G1.graph[솔라][쯔위] = 1\n",
        "G1.graph[휘인][문별] = 1  ; G1.graph[휘인][쯔위] = 1\n",
        "G1.graph[쯔위][솔라] = 1  ; G1.graph[쯔위][휘인] = 1 ; G1.graph[쯔위][선미] = 1 ; G1.graph[쯔위][화사] = 1\n",
        "G1.graph[선미][쯔위] = 1  ; G1.graph[선미][화사] = 1\n",
        "G1.graph[화사][쯔위] = 1  ; G1.graph[화사][선미] = 1\n",
        "\n",
        "print(\"## G1 무방향 그래프 ##\")\n",
        "printGraph(G1)\n"
      ],
      "metadata": {
        "colab": {
          "base_uri": "https://localhost:8080/"
        },
        "id": "eQ1I6ikmWofL",
        "outputId": "c6c8f927-be02-4737-abf9-82396f76a5d5"
      },
      "execution_count": null,
      "outputs": [
        {
          "output_type": "stream",
          "name": "stdout",
          "text": [
            "## G1 무방향 그래프 ##\n",
            "  문별 솔라 휘인 쯔위 선미 화사 \n",
            "문별 0 1 1 0 0 0 \n",
            "솔라 1 0 0 1 0 0 \n",
            "휘인 1 0 0 1 0 0 \n",
            "쯔위 0 1 1 0 1 1 \n",
            "선미 0 0 0 1 0 1 \n",
            "화사 0 0 0 1 1 0 \n",
            "\n"
          ]
        }
      ]
    }
  ]
}