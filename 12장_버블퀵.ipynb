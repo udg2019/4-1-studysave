{
  "nbformat": 4,
  "nbformat_minor": 0,
  "metadata": {
    "colab": {
      "provenance": [],
      "authorship_tag": "ABX9TyMk+bEj8P0MF6GgEVy5/9md",
      "include_colab_link": true
    },
    "kernelspec": {
      "name": "python3",
      "display_name": "Python 3"
    },
    "language_info": {
      "name": "python"
    }
  },
  "cells": [
    {
      "cell_type": "markdown",
      "metadata": {
        "id": "view-in-github",
        "colab_type": "text"
      },
      "source": [
        "<a href=\"https://colab.research.google.com/github/udg2019/4-1-studysave/blob/master/12%EC%9E%A5_%EB%B2%84%EB%B8%94%ED%80%B5.ipynb\" target=\"_parent\"><img src=\"https://colab.research.google.com/assets/colab-badge.svg\" alt=\"Open In Colab\"/></a>"
      ]
    },
    {
      "cell_type": "code",
      "execution_count": null,
      "metadata": {
        "colab": {
          "base_uri": "https://localhost:8080/"
        },
        "id": "3Hu-KtKuix8L",
        "outputId": "704e8822-adf5-42d2-bb30-1d4cc1dd7469"
      },
      "outputs": [
        {
          "output_type": "stream",
          "name": "stdout",
          "text": [
            "정렬 전 --> [3, 5, 7, 1]\n",
            "정렬 후 --> [1, 3, 5, 7]\n"
          ]
        }
      ],
      "source": [
        "#430 버블 정렬 구현\n",
        "\n",
        "def BubbleSort(ary):\n",
        "  n = len(ary)\n",
        "  for end in range(n-1, 0, -1):\n",
        "    for cur in range(0, end): #배열 크기 -1부터 1까지 반복, -1이 맨뒤 시작인걸 기억.\n",
        "      if(ary[cur]>ary[cur+1]):\n",
        "        ary[cur], ary[cur+1] = ary[cur+1], ary[cur]\n",
        "  return ary\n",
        "\n",
        "#전역변수\n",
        "dataAry = [3,5,7,1]\n",
        "\n",
        "#메인코드\n",
        "print('정렬 전 -->', dataAry)\n",
        "dataAry = BubbleSort(dataAry)\n",
        "print('정렬 후 -->', dataAry)"
      ]
    },
    {
      "cell_type": "code",
      "source": [
        "#437p 퀵정렬\n",
        "#★기준을 하나 뽑은 후 기준보다 작은 그룹과 큰 그룹을 나누어 다시 각 그룹으로 정렬하는 방법\n",
        "#재귀호출 역시 개념 정립 해둘것\n",
        "\n",
        "def quickSort(ary):\n",
        "  n=len(ary)\n",
        "  if n <= 1:\n",
        "    return ary #사실 1보다 작으면 정렬될게 없음.\n",
        "\n",
        "  pivot = ary[n//2] #기준값은 중간값. // 몫으로 확인 // 10/2  = \"5\"가 되는식\n",
        "  leftAry, rightAry = [], []\n",
        "  #leftAry = []\n",
        "  #rightAry = []\n",
        "\n",
        "  for num in ary:\n",
        "    if num < pivot:\n",
        "      leftAry.append(num)\n",
        "    elif num > pivot:\n",
        "      rightAry.append(num)\n",
        "  print(leftAry, rightAry)\n",
        "  return quickSort(leftAry) + [pivot] + quickSort(rightAry)\n",
        "\n",
        "#전역변수함\n",
        "dataAry = [1,8,5,10,3]\n",
        "\n",
        "#메인코드\n",
        "print('정렬 전 -->', dataAry)\n",
        "dataAry = quickSort(dataAry) #퀵솔트 실행.\n",
        "print('정렬 후 -->', dataAry)\n",
        "\n",
        "#중복값이 있으면 오류가 남."
      ],
      "metadata": {
        "colab": {
          "base_uri": "https://localhost:8080/"
        },
        "id": "z1n-rttkkd_E",
        "outputId": "17f60ed2-545f-472d-f981-30db3737cc53"
      },
      "execution_count": null,
      "outputs": [
        {
          "output_type": "stream",
          "name": "stdout",
          "text": [
            "정렬 전 --> [1, 8, 5, 10, 3]\n",
            "5\n",
            "[1, 3] [8, 10]\n",
            "3\n",
            "[1] []\n",
            "10\n",
            "[8] []\n",
            "정렬 후 --> [1, 3, 5, 8, 10]\n"
          ]
        }
      ]
    }
  ]
}