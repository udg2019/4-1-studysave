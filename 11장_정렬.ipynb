{
  "nbformat": 4,
  "nbformat_minor": 0,
  "metadata": {
    "colab": {
      "provenance": [],
      "authorship_tag": "ABX9TyO8FYpLHTrcfxC9CmOqtNkU",
      "include_colab_link": true
    },
    "kernelspec": {
      "name": "python3",
      "display_name": "Python 3"
    },
    "language_info": {
      "name": "python"
    }
  },
  "cells": [
    {
      "cell_type": "markdown",
      "metadata": {
        "id": "view-in-github",
        "colab_type": "text"
      },
      "source": [
        "<a href=\"https://colab.research.google.com/github/udg2019/4-1-studysave/blob/master/11%EC%9E%A5_%EC%A0%95%EB%A0%AC.ipynb\" target=\"_parent\"><img src=\"https://colab.research.google.com/assets/colab-badge.svg\" alt=\"Open In Colab\"/></a>"
      ]
    },
    {
      "cell_type": "markdown",
      "source": [
        "# 정렬(sort)\n",
        "- 자료들을 일정한 순서대로 나열한 것\n",
        "- 오름차순 정렬 : 가나다, 123\n",
        "- 내림차순 정렬 : 321, 다나가\n",
        "# 정렬 종류(방법의 형태)\n",
        "1. 선택 정렬 : 가장 작은 값을 뽑는 작동을 반복 값을 정렬\n",
        "2. 삽입 정렬\n",
        "3. 버블 정렬\n",
        "4.   퀵 정렬"
      ],
      "metadata": {
        "id": "kCBjAhizaYol"
      }
    },
    {
      "cell_type": "markdown",
      "source": [
        "###선택정렬\n",
        "선택정렬은 [5] [4] [3] [2] [31] 각 인덱스를 흩어보면서\n",
        "작은값과 자리를 바꾸는개념임,\n",
        "- [*2] [4] [3] [*5] [31]\n",
        "- [2] [*3] [*4] [5] [31]\n"
      ],
      "metadata": {
        "id": "VemZBYHSeXiT"
      }
    },
    {
      "cell_type": "code",
      "source": [
        "def findMinindex(ary):\n",
        "  minidx = 0\n",
        "  for i in range(1, len(ary)): #반복. 길이 4니까 4번.\n",
        "    if (ary[minidx] > ary[i]): #1번째와 2번째 자리 비교하여 제일 작은 값이 들어있는 '인덱스 번호'를 찾아내는거임.\n",
        "      minidx = i #2로 만들고\n",
        "      return minidx #값 반환\n",
        "\n",
        "array = [55,88,33,77]\n",
        "minPos = findMinindex(array)\n",
        "print(array[minPos])"
      ],
      "metadata": {
        "colab": {
          "base_uri": "https://localhost:8080/"
        },
        "id": "qZLNunFSa8iR",
        "outputId": "e44e6b51-1fff-4cf4-9df5-22f5ec5ca40b"
      },
      "execution_count": null,
      "outputs": [
        {
          "output_type": "stream",
          "name": "stdout",
          "text": [
            "33\n"
          ]
        }
      ]
    },
    {
      "cell_type": "code",
      "source": [
        "# 선택 정렬 398\n",
        "def findMinIdx(ary):\n",
        "  minIdx = 0\n",
        "  for i in range(1, len(ary)):\n",
        "    if (ary[minIdx] > ary[i]):\n",
        "      minIdx = i\n",
        "  return minIdx\n",
        "\n",
        "before = [55, 88, 13, 55, 120, 24, 25]\n",
        "after = []\n",
        "\n",
        "# 메인코드\n",
        "print('정렬전 -->', before)\n",
        "for _ in range(len(before)):\n",
        "  minPos = findMinIdx(before)\n",
        "  after.append(before[minPos])\n",
        "  del (before[minPos]) # 찾은 값을 제거\n",
        "print('정렬 후 --> ', after)\n"
      ],
      "metadata": {
        "colab": {
          "base_uri": "https://localhost:8080/"
        },
        "id": "tjwToYEbeVZY",
        "outputId": "9917cb3a-9082-4e5f-e07a-c6b2341ce220"
      },
      "execution_count": null,
      "outputs": [
        {
          "output_type": "stream",
          "name": "stdout",
          "text": [
            "정렬전 --> [55, 88, 13, 55, 120, 24, 25]\n",
            "정렬 후 -->  [13, 24, 25, 55, 55, 88, 120]\n"
          ]
        }
      ]
    },
    {
      "cell_type": "code",
      "source": [
        "def selectionSort(ary):\n",
        "  n=len(ary)\n",
        "  for i in range(0, n): #n-1이지만 이래도 작동함\n",
        "    minidx = i #첫번째 값을 최소값을 정하기\n",
        "    for k in range(i+1,n): #두번째부터 반복.\n",
        "      if(ary[minidx] > ary[k]): #minidx 0 ary[1] 에서 작으면..\n",
        "        minidx = k    #작은걸 k에 넣어서 자리를 바꿔버림\n",
        "    tmp = ary[i]    #ary[0] 임시변수에 넣음.\n",
        "    ary[i] = ary[minidx] #값을 다시 복사해서 넣고\n",
        "    ary[minidx] = tmp #임시변수를 낢은 곳에 다시 넣어 결과적으론 자리를 바꾸게 함\n",
        "    #ary[i], ary[minidx] = ary[minidx], ary[i] 파이선에서만 작동하는 한줄\n",
        "\n",
        "  return ary\n",
        "\n",
        "dataAry = [188,162,168,120,50,150,177,105]\n",
        "print('정렬 전 -->', dataAry)\n",
        "dataAry = selectionSort(dataAry)\n",
        "print('정렬 후 -->', dataAry)"
      ],
      "metadata": {
        "colab": {
          "base_uri": "https://localhost:8080/"
        },
        "id": "WrswfNDzf7XI",
        "outputId": "d069099b-a7dc-4c5d-ace8-e24cef5915fb"
      },
      "execution_count": null,
      "outputs": [
        {
          "output_type": "stream",
          "name": "stdout",
          "text": [
            "정렬 전 --> [188, 162, 168, 120, 50, 150, 177, 105]\n",
            "정렬 후 --> [50, 105, 120, 150, 162, 168, 177, 188]\n"
          ]
        }
      ]
    }
  ]
}